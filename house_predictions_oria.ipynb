{
  "nbformat": 4,
  "nbformat_minor": 0,
  "metadata": {
    "kernelspec": {
      "display_name": "Python 3",
      "language": "python",
      "name": "python3"
    },
    "language_info": {
      "codemirror_mode": {
        "name": "ipython",
        "version": 3
      },
      "file_extension": ".py",
      "mimetype": "text/x-python",
      "name": "python",
      "nbconvert_exporter": "python",
      "pygments_lexer": "ipython3",
      "version": "3.8.6"
    },
    "varInspector": {
      "cols": {
        "lenName": 16,
        "lenType": 16,
        "lenVar": 40
      },
      "kernels_config": {
        "python": {
          "delete_cmd_postfix": "",
          "delete_cmd_prefix": "del ",
          "library": "var_list.py",
          "varRefreshCmd": "print(var_dic_list())"
        },
        "r": {
          "delete_cmd_postfix": ") ",
          "delete_cmd_prefix": "rm(",
          "library": "var_list.r",
          "varRefreshCmd": "cat(var_dic_list()) "
        }
      },
      "types_to_exclude": [
        "module",
        "function",
        "builtin_function_or_method",
        "instance",
        "_Feature"
      ],
      "window_display": false
    },
    "colab": {
      "name": "house_predictions_oria.ipynb",
      "provenance": [],
      "toc_visible": true
    }
  },
  "cells": [
    {
      "cell_type": "markdown",
      "metadata": {
        "collapsed": "true",
        "id": "WKLampExkeJQ"
      },
      "source": [
        "# INITIALIZE"
      ]
    },
    {
      "cell_type": "code",
      "metadata": {
        "ExecuteTime": {
          "end_time": "2020-12-08T20:44:53.201870Z",
          "start_time": "2020-12-08T20:44:51.692271Z"
        },
        "id": "TmVMzLsJkeJY"
      },
      "source": [
        "import os\n",
        "import numpy as np\n",
        "import pandas as pd\n",
        "import matplotlib.pyplot as plt\n",
        "from scipy import stats\n",
        "from scipy.stats import norm, skew\n",
        "\n",
        "pd.set_option(\"display.max_rows\", 60)\n",
        "pd.set_option(\"display.float_format\", lambda x: \"{:.3f}\".format(x))"
      ],
      "execution_count": 1,
      "outputs": []
    },
    {
      "cell_type": "code",
      "metadata": {
        "colab": {
          "base_uri": "https://localhost:8080/"
        },
        "id": "jyogGFlEkeJZ",
        "outputId": "4a6f9360-e1d8-401a-8ef7-0378c0cde822"
      },
      "source": [
        "INSTALL_NOT_PRESENT_MODULES = True\n",
        "IS_LOCAL = False\n",
        "SEED = 14\n",
        "if not IS_LOCAL:\n",
        "    GOOGLE_DRIVE_PATH = \"./drive/MyDrive/kaggle/house_price_prediction/\"\n",
        "    from google.colab import drive\n",
        "    drive.mount('/content/drive')\n",
        "\n",
        "PATH_TO_DATA = \"./data/\"\n",
        "PATH_TO_MODELS = \"./models/\"\n",
        "PATH_TO_SUBMISSIONS = \"./submissions/\"\n",
        "if not IS_LOCAL:\n",
        "    PATH_TO_DATA = GOOGLE_DRIVE_PATH + PATH_TO_DATA\n",
        "    PATH_TO_MODELS = GOOGLE_DRIVE_PATH + PATH_TO_MODELS\n",
        "    PATH_TO_SUBMISSIONS = GOOGLE_DRIVE_PATH + PATH_TO_SUBMISSIONS"
      ],
      "execution_count": 2,
      "outputs": [
        {
          "output_type": "stream",
          "text": [
            "Drive already mounted at /content/drive; to attempt to forcibly remount, call drive.mount(\"/content/drive\", force_remount=True).\n"
          ],
          "name": "stdout"
        }
      ]
    },
    {
      "cell_type": "markdown",
      "metadata": {
        "collapsed": "true",
        "id": "qJ7DqHbYkeJa"
      },
      "source": [
        "# LOAD DATA"
      ]
    },
    {
      "cell_type": "code",
      "metadata": {
        "ExecuteTime": {
          "end_time": "2020-12-08T20:44:53.284260Z",
          "start_time": "2020-12-08T20:44:53.218547Z"
        },
        "colab": {
          "base_uri": "https://localhost:8080/"
        },
        "id": "_toZpfwrkeJa",
        "outputId": "e57db948-3057-40c7-a68b-747d20ebdc64"
      },
      "source": [
        "# TODO: maybe use Id columns as index?\n",
        "train = pd.read_csv(os.path.join(PATH_TO_DATA, \"./train.csv\"))\n",
        "test = pd.read_csv(os.path.join(PATH_TO_DATA, \"./test.csv\"))\n",
        "print(\"train shape:\", train.shape)\n",
        "print(\"test shape:\", test.shape)"
      ],
      "execution_count": 3,
      "outputs": [
        {
          "output_type": "stream",
          "text": [
            "train shape: (1460, 81)\n",
            "test shape: (1459, 80)\n"
          ],
          "name": "stdout"
        }
      ]
    },
    {
      "cell_type": "code",
      "metadata": {
        "ExecuteTime": {
          "end_time": "2020-12-08T20:44:53.299570Z",
          "start_time": "2020-12-08T20:44:53.287422Z"
        },
        "scrolled": true,
        "colab": {
          "base_uri": "https://localhost:8080/"
        },
        "id": "Kozs6zpmkeJa",
        "outputId": "ee30dbbb-7877-43c2-88cf-daf2713ab3ac"
      },
      "source": [
        "train_ID = train[\"Id\"]\n",
        "test_ID = test[\"Id\"]\n",
        "\n",
        "train.drop(\"Id\", axis=1, inplace=True)\n",
        "test.drop(\"Id\", axis=1, inplace=True)\n",
        "\n",
        "print(\"\\nThe train data size after dropping Id feature is : {} \".format(train.shape))\n",
        "print(\"The test data size after dropping Id feature is : {} \".format(test.shape))"
      ],
      "execution_count": 4,
      "outputs": [
        {
          "output_type": "stream",
          "text": [
            "\n",
            "The train data size after dropping Id feature is : (1460, 80) \n",
            "The test data size after dropping Id feature is : (1459, 79) \n"
          ],
          "name": "stdout"
        }
      ]
    },
    {
      "cell_type": "markdown",
      "metadata": {
        "collapsed": "true",
        "id": "mc5q0FsXkeJb"
      },
      "source": [
        "# Prepare data"
      ]
    },
    {
      "cell_type": "code",
      "metadata": {
        "ExecuteTime": {
          "end_time": "2020-12-08T20:44:53.357748Z",
          "start_time": "2020-12-08T20:44:53.316382Z"
        },
        "colab": {
          "base_uri": "https://localhost:8080/"
        },
        "id": "MApQrSRGkeJb",
        "outputId": "6e97bc3d-a729-44d0-d988-da6ba8824da1"
      },
      "source": [
        "# delete outliers\n",
        "train = train.drop(\n",
        "    train[(train[\"GrLivArea\"] > 4000) & (train[\"SalePrice\"] < 300000)].index\n",
        ")\n",
        "\n",
        "train[\"SalePrice\"] = np.log1p(train[\"SalePrice\"])\n",
        "\n",
        "ntrain = train.shape[0]\n",
        "ntest = test.shape[0]\n",
        "y_train = train[\"SalePrice\"].values\n",
        "\n",
        "all_data = pd.concat((train, test)).reset_index(drop=True)\n",
        "all_data.drop([\"SalePrice\"], axis=1, inplace=True)\n",
        "\n",
        "# TODO: think about it\n",
        "# can delete all data like these\n",
        "all_data = all_data.drop([\"Utilities\"], axis=1)\n",
        "\n",
        "mb_drop = [\n",
        "    col\n",
        "    for col in all_data.columns\n",
        "    if (all_data[col].value_counts(normalize=True) > 0.95).any()\n",
        "]\n",
        "all_data.drop(mb_drop, axis=1, inplace=True)\n",
        "\n",
        "print(\"all_data size is : {}\".format(all_data.shape))"
      ],
      "execution_count": 5,
      "outputs": [
        {
          "output_type": "stream",
          "text": [
            "all_data size is : (2917, 67)\n"
          ],
          "name": "stdout"
        }
      ]
    },
    {
      "cell_type": "markdown",
      "metadata": {
        "collapsed": "true",
        "id": "zBEoHJPUkeJc"
      },
      "source": [
        "## Change types\n",
        "Some columns in numerical type, but they sense categorical"
      ]
    },
    {
      "cell_type": "code",
      "metadata": {
        "ExecuteTime": {
          "end_time": "2020-12-08T20:44:53.560078Z",
          "start_time": "2020-12-08T20:44:53.522573Z"
        },
        "id": "9qC273dLkeJc"
      },
      "source": [
        "to_change_type_to_str = {\n",
        "    col: str for col in [\"MSSubClass\", \"OverallCond\", \"YrSold\", \"MoSold\"]\n",
        "}\n",
        "all_data = all_data.astype(to_change_type_to_str)"
      ],
      "execution_count": 6,
      "outputs": []
    },
    {
      "cell_type": "markdown",
      "metadata": {
        "collapsed": "true",
        "id": "8Udc3L-bkeJc"
      },
      "source": [
        "## Fill nans with zero"
      ]
    },
    {
      "cell_type": "code",
      "metadata": {
        "ExecuteTime": {
          "end_time": "2020-12-08T20:44:53.568525Z",
          "start_time": "2020-12-08T20:44:53.562380Z"
        },
        "id": "YpHd91TSkeJd"
      },
      "source": [
        "# Fill NaN values in these columns by 0 for numerical types of data\n",
        "# or with \"None\" string/object types of data\n",
        "\n",
        "# at first, situations when some object just can to not exists\n",
        "# garage\n",
        "garages_cols = [col for col in all_data.columns if col.startswith(\"Garage\")]\n",
        "\n",
        "# basement\n",
        "basement_cols = [col for col in all_data.columns if col.startswith(\"Bsmt\")] + [\n",
        "    \"TotalBsmtSF\"\n",
        "]\n",
        "\n",
        "# and other columns with a similar property, but which we cant group like below\n",
        "\n",
        "# some of these cols hasnt nan values, added just for generalization understanding\n",
        "objects_can_not_to_exists = [\n",
        "    \"Alley\",\n",
        "    \"Fence\",\n",
        "    \"PoolQC\",\n",
        "    \"PoolArea\",\n",
        "    \"MasVnrType\",\n",
        "    \"MasVnrArea\",\n",
        "    \"Fireplaces\",\n",
        "    \"FireplaceQu\",\n",
        "    \"MSSubClass\",\n",
        "    \"MiscFeature\",\n",
        "]\n",
        "\n",
        "cols_fillna_zero = garages_cols + basement_cols + objects_can_not_to_exists"
      ],
      "execution_count": 7,
      "outputs": []
    },
    {
      "cell_type": "code",
      "metadata": {
        "ExecuteTime": {
          "end_time": "2020-12-08T20:44:53.577180Z",
          "start_time": "2020-12-08T20:44:53.571021Z"
        },
        "id": "VjHwL095keJd"
      },
      "source": [
        "na_value_depends_type = lambda df, col: 0 if df[col].dtype != \"object\" else \"None\"\n",
        "\n",
        "value_fillna_zero = {\n",
        "    col: na_value_depends_type(all_data, col)\n",
        "    for col in cols_fillna_zero\n",
        "    if col in all_data.columns\n",
        "}\n",
        "# \"if\" statement can delete in future it depends to mb_drop"
      ],
      "execution_count": 8,
      "outputs": []
    },
    {
      "cell_type": "markdown",
      "metadata": {
        "collapsed": "true",
        "id": "DJHSeEPkkeJd"
      },
      "source": [
        "## Some cols need to be filled with mode"
      ]
    },
    {
      "cell_type": "code",
      "metadata": {
        "ExecuteTime": {
          "end_time": "2020-12-08T20:44:53.609342Z",
          "start_time": "2020-12-08T20:44:53.580517Z"
        },
        "id": "NO-VbzJmkeJe"
      },
      "source": [
        "cols_fillna_mode = [\n",
        "    all_data.columns[idx] for idx, val in enumerate(all_data.isnull().sum()) if val\n",
        "]\n",
        "value_fillna_mode = {\n",
        "    col: all_data[col].mode()[0] for col in cols_fillna_mode if col in all_data.columns\n",
        "}\n",
        "# \"if\" statement can delete in future it depends to mb_drop"
      ],
      "execution_count": 9,
      "outputs": []
    },
    {
      "cell_type": "code",
      "metadata": {
        "ExecuteTime": {
          "end_time": "2020-12-08T20:44:53.636073Z",
          "start_time": "2020-12-08T20:44:53.611757Z"
        },
        "id": "dgPtDH1hkeJg"
      },
      "source": [
        "values_fillna = {**value_fillna_zero, **value_fillna_mode}\n",
        "\n",
        "all_data.fillna(value=values_fillna, inplace=True)"
      ],
      "execution_count": 10,
      "outputs": []
    },
    {
      "cell_type": "code",
      "metadata": {
        "ExecuteTime": {
          "end_time": "2020-12-08T20:44:53.682748Z",
          "start_time": "2020-12-08T20:44:53.638172Z"
        },
        "id": "ddc1hcr5keJg"
      },
      "source": [
        "# # Filling 'MSZoning' according to MSSubClass.\n",
        "\n",
        "all_data[\"MSZoning\"] = all_data.groupby(\"MSSubClass\")[\"MSZoning\"].apply(\n",
        "    lambda x: x.fillna(x.mode()[0])\n",
        ")\n",
        "\n",
        "# Filling 'LotFrontage' according to Neighborhood.\n",
        "\n",
        "all_data[\"LotFrontage\"] = all_data.groupby([\"Neighborhood\"])[\"LotFrontage\"].apply(\n",
        "    lambda x: x.fillna(x.median())\n",
        ")"
      ],
      "execution_count": 11,
      "outputs": []
    },
    {
      "cell_type": "markdown",
      "metadata": {
        "collapsed": "true",
        "id": "eNIvngd0keJg"
      },
      "source": [
        "## Process some features with LabelEncoder"
      ]
    },
    {
      "cell_type": "code",
      "metadata": {
        "ExecuteTime": {
          "end_time": "2020-12-08T20:44:54.153568Z",
          "start_time": "2020-12-08T20:44:53.697667Z"
        },
        "id": "U3vOkJGdkeJh"
      },
      "source": [
        "from sklearn.preprocessing import LabelEncoder\n",
        "\n",
        "## full list of categorical data\n",
        "# num_types = [np.int64, np.float64]\n",
        "# categorical_cols = [\n",
        "#     col for col in all_data.columns if all_data[col].dtype not in num_types\n",
        "# ]\n",
        "\n",
        "# with processing only these cols have better result\n",
        "cols = (\n",
        "    \"FireplaceQu\",\n",
        "    \"BsmtQual\",\n",
        "    \"BsmtCond\",\n",
        "    \"GarageQual\",\n",
        "    \"GarageCond\",\n",
        "    \"ExterQual\",\n",
        "    \"ExterCond\",\n",
        "    \"HeatingQC\",\n",
        "    \"PoolQC\",\n",
        "    \"KitchenQual\",\n",
        "    \"BsmtFinType1\",\n",
        "    \"BsmtFinType2\",\n",
        "    \"Functional\",\n",
        "    \"Fence\",\n",
        "    \"BsmtExposure\",\n",
        "    \"GarageFinish\",\n",
        "    \"LandSlope\",\n",
        "    \"LotShape\",\n",
        "    \"PavedDrive\",\n",
        "    \"Street\",\n",
        "    \"Alley\",\n",
        "    \"CentralAir\",\n",
        "    \"MSSubClass\",\n",
        "    \"OverallCond\",\n",
        "    \"YrSold\",\n",
        "    \"MoSold\",\n",
        ")"
      ],
      "execution_count": 13,
      "outputs": []
    },
    {
      "cell_type": "code",
      "metadata": {
        "ExecuteTime": {
          "end_time": "2020-12-08T20:44:54.215229Z",
          "start_time": "2020-12-08T20:44:54.169050Z"
        },
        "scrolled": true,
        "id": "igCYdbTWkeJh"
      },
      "source": [
        "for col in cols:\n",
        "    if col in all_data.columns:\n",
        "        all_data[col] = LabelEncoder().fit_transform(all_data[col])"
      ],
      "execution_count": 14,
      "outputs": []
    },
    {
      "cell_type": "code",
      "metadata": {
        "ExecuteTime": {
          "end_time": "2020-12-08T20:44:54.221317Z",
          "start_time": "2020-12-08T20:44:54.217513Z"
        },
        "colab": {
          "base_uri": "https://localhost:8080/"
        },
        "id": "UxzMW4W1keJh",
        "outputId": "c417eec4-df74-4d46-a497-aafc0b11c95b"
      },
      "source": [
        "print(\"Shape all_data: {}\".format(all_data.shape))"
      ],
      "execution_count": 15,
      "outputs": [
        {
          "output_type": "stream",
          "text": [
            "Shape all_data: (2917, 67)\n"
          ],
          "name": "stdout"
        }
      ]
    },
    {
      "cell_type": "code",
      "metadata": {
        "ExecuteTime": {
          "end_time": "2020-12-08T20:44:54.232252Z",
          "start_time": "2020-12-08T20:44:54.224159Z"
        },
        "id": "dZqc1xSWkeJi"
      },
      "source": [
        "# Adding total sqfootage feature\n",
        "all_data[\"TotalSF\"] = (\n",
        "    all_data[\"TotalBsmtSF\"] + all_data[\"1stFlrSF\"] + all_data[\"2ndFlrSF\"]\n",
        ")"
      ],
      "execution_count": 16,
      "outputs": []
    },
    {
      "cell_type": "markdown",
      "metadata": {
        "collapsed": "true",
        "id": "S3CfgULSkeJi"
      },
      "source": [
        "## Box Cox Transformation of (highly) skewed features\n"
      ]
    },
    {
      "cell_type": "code",
      "metadata": {
        "ExecuteTime": {
          "end_time": "2020-12-08T20:44:54.313502Z",
          "start_time": "2020-12-08T20:44:54.234569Z"
        },
        "colab": {
          "base_uri": "https://localhost:8080/"
        },
        "id": "hS-BGv97keJi",
        "outputId": "f0255bfe-4350-462f-fef0-c643c13aadf0"
      },
      "source": [
        "numeric_feats = all_data.dtypes[all_data.dtypes != \"object\"].index\n",
        "\n",
        "# Check the skew of all numerical features\n",
        "skewed_feats = (\n",
        "    all_data[numeric_feats]\n",
        "    .apply(lambda x: skew(x.dropna()))\n",
        "    .sort_values(ascending=False)\n",
        ")\n",
        "print(\"\\nSkew in numerical features: \\n\")\n",
        "skewness = pd.DataFrame({\"Skew\": skewed_feats})\n",
        "\n",
        "skewness = skewness[abs(skewness) > 0.75]\n",
        "print(\n",
        "    \"There are {} skewed numerical features to Box Cox transform\".format(\n",
        "        skewness.shape[0]\n",
        "    )\n",
        ")"
      ],
      "execution_count": 17,
      "outputs": [
        {
          "output_type": "stream",
          "text": [
            "\n",
            "Skew in numerical features: \n",
            "\n",
            "There are 51 skewed numerical features to Box Cox transform\n"
          ],
          "name": "stdout"
        }
      ]
    },
    {
      "cell_type": "markdown",
      "metadata": {
        "collapsed": "true",
        "id": "4LKBc7fvkeJi"
      },
      "source": [
        "## Apply Cox Box transformation and create cleaned train & test data"
      ]
    },
    {
      "cell_type": "code",
      "metadata": {
        "ExecuteTime": {
          "end_time": "2020-12-08T20:44:54.415892Z",
          "start_time": "2020-12-08T20:44:54.333116Z"
        },
        "colab": {
          "base_uri": "https://localhost:8080/"
        },
        "id": "fqMl7FVwkeJj",
        "outputId": "70fcbdce-9bef-417d-fd7d-dc2321e531b8"
      },
      "source": [
        "from scipy.special import boxcox1p\n",
        "\n",
        "skewed_features = skewness.index\n",
        "lam = 0.15\n",
        "for feat in skewed_features:\n",
        "    # depends of mb_drop\n",
        "    if feat in all_data.columns:\n",
        "        all_data[feat] = boxcox1p(all_data[feat], lam)\n",
        "\n",
        "all_data = pd.get_dummies(all_data)\n",
        "print(all_data.shape)\n",
        "\n",
        "train = all_data[:ntrain]\n",
        "test = all_data[ntrain:]"
      ],
      "execution_count": 18,
      "outputs": [
        {
          "output_type": "stream",
          "text": [
            "(2917, 189)\n"
          ],
          "name": "stdout"
        }
      ]
    },
    {
      "cell_type": "markdown",
      "metadata": {
        "collapsed": "true",
        "id": "hU-RrNNikeJk"
      },
      "source": [
        "# Train model"
      ]
    },
    {
      "cell_type": "code",
      "metadata": {
        "id": "g_CjoTUPlRRb"
      },
      "source": [
        "try:\n",
        "    import h2o\n",
        "    from h2o.automl import H2OAutoML\n",
        "except ModuleNotFoundError:\n",
        "    if INSTALL_NOT_PRESENT_MODULES:\n",
        "        print('h2o is installing!')\n",
        "        !pip install h2o\n",
        "        print(\"h2o is installed! h2o version is f'{h2o.__version__}'\")\n",
        "        import h2o\n",
        "        from h2o.automl import H2OAutoML\n",
        "    else:\n",
        "        print(\"You need to install h2o!\")"
      ],
      "execution_count": 19,
      "outputs": []
    },
    {
      "cell_type": "code",
      "metadata": {
        "ExecuteTime": {
          "end_time": "2020-12-08T20:45:09.439793Z",
          "start_time": "2020-12-08T20:44:54.418457Z"
        },
        "colab": {
          "base_uri": "https://localhost:8080/",
          "height": 863
        },
        "id": "76r7buQVkeJk",
        "outputId": "c567a896-ab09-4748-c407-1641fcb35d94"
      },
      "source": [
        "%%time\n",
        "\n",
        "h2o.init()\n",
        "\n",
        "LOAD_MODEL = True\n",
        "\n",
        "train[\"SalePrice\"] = y_train\n",
        "htrain = h2o.H2OFrame(train)\n",
        "htest = h2o.H2OFrame(test)\n",
        "x = htrain.columns\n",
        "y = \"SalePrice\"\n",
        "x.remove(y)\n",
        "\n",
        "if LOAD_MODEL:\n",
        "    lb = h2o.import_file(path=os.path.join(PATH_TO_MODELS, \"aml_leaderboard.h2o\"))\n",
        "    best_model_name = lb[0, 0]\n",
        "    best_model = h2o.load_model(os.path.join(PATH_TO_MODELS, best_model_name, best_model_name))\n",
        "else:\n",
        "    aml = H2OAutoML(max_runtime_secs=20, seed=SEED)\n",
        "    aml.train(x=x, y=y, training_frame=htrain)\n",
        "    lb = aml.leaderboard\n",
        "    best_model = aml.leader\n",
        "\n",
        "print(lb)\n",
        "print(\"generate predictions\")\n",
        "\n",
        "# if SAVE_MODEL:\n",
        "#     h2o.export_file(lb, os.path.join(PATH_TO_MODELS, \"aml_leaderboard.h2o\"), force=FORCE)\n",
        "#     model_ids = lb['model_id'].as_data_frame()['model_id'].tolist()\n",
        "#     for m_id in model_ids:\n",
        "#         mdl = h2o.get_model(m_id)\n",
        "#         h2o.save_model(model=mdl, path=os.path.join(PATH_TO_MODELS, f'{m_id}'), force=FORCE)\n",
        "\n",
        "# test_y = aml.leader.predict(htest)\n",
        "# test_y = test_y.as_data_frame()"
      ],
      "execution_count": 25,
      "outputs": [
        {
          "output_type": "stream",
          "text": [
            "Checking whether there is an H2O instance running at http://localhost:54321 . connected.\n"
          ],
          "name": "stdout"
        },
        {
          "output_type": "display_data",
          "data": {
            "text/html": [
              "<div style=\"overflow:auto\"><table style=\"width:50%\"><tr><td>H2O_cluster_uptime:</td>\n",
              "<td>45 secs</td></tr>\n",
              "<tr><td>H2O_cluster_timezone:</td>\n",
              "<td>Etc/UTC</td></tr>\n",
              "<tr><td>H2O_data_parsing_timezone:</td>\n",
              "<td>UTC</td></tr>\n",
              "<tr><td>H2O_cluster_version:</td>\n",
              "<td>3.32.0.2</td></tr>\n",
              "<tr><td>H2O_cluster_version_age:</td>\n",
              "<td>29 days </td></tr>\n",
              "<tr><td>H2O_cluster_name:</td>\n",
              "<td>H2O_from_python_unknownUser_1yhdu0</td></tr>\n",
              "<tr><td>H2O_cluster_total_nodes:</td>\n",
              "<td>1</td></tr>\n",
              "<tr><td>H2O_cluster_free_memory:</td>\n",
              "<td>3.177 Gb</td></tr>\n",
              "<tr><td>H2O_cluster_total_cores:</td>\n",
              "<td>2</td></tr>\n",
              "<tr><td>H2O_cluster_allowed_cores:</td>\n",
              "<td>2</td></tr>\n",
              "<tr><td>H2O_cluster_status:</td>\n",
              "<td>locked, healthy</td></tr>\n",
              "<tr><td>H2O_connection_url:</td>\n",
              "<td>http://localhost:54321</td></tr>\n",
              "<tr><td>H2O_connection_proxy:</td>\n",
              "<td>{\"http\": null, \"https\": null}</td></tr>\n",
              "<tr><td>H2O_internal_security:</td>\n",
              "<td>False</td></tr>\n",
              "<tr><td>H2O_API_Extensions:</td>\n",
              "<td>Amazon S3, XGBoost, Algos, AutoML, Core V3, TargetEncoder, Core V4</td></tr>\n",
              "<tr><td>Python_version:</td>\n",
              "<td>3.6.9 final</td></tr></table></div>"
            ],
            "text/plain": [
              "--------------------------  ------------------------------------------------------------------\n",
              "H2O_cluster_uptime:         45 secs\n",
              "H2O_cluster_timezone:       Etc/UTC\n",
              "H2O_data_parsing_timezone:  UTC\n",
              "H2O_cluster_version:        3.32.0.2\n",
              "H2O_cluster_version_age:    29 days\n",
              "H2O_cluster_name:           H2O_from_python_unknownUser_1yhdu0\n",
              "H2O_cluster_total_nodes:    1\n",
              "H2O_cluster_free_memory:    3.177 Gb\n",
              "H2O_cluster_total_cores:    2\n",
              "H2O_cluster_allowed_cores:  2\n",
              "H2O_cluster_status:         locked, healthy\n",
              "H2O_connection_url:         http://localhost:54321\n",
              "H2O_connection_proxy:       {\"http\": null, \"https\": null}\n",
              "H2O_internal_security:      False\n",
              "H2O_API_Extensions:         Amazon S3, XGBoost, Algos, AutoML, Core V3, TargetEncoder, Core V4\n",
              "Python_version:             3.6.9 final\n",
              "--------------------------  ------------------------------------------------------------------"
            ]
          },
          "metadata": {
            "tags": []
          }
        },
        {
          "output_type": "stream",
          "text": [
            "/usr/local/lib/python3.6/dist-packages/ipykernel_launcher.py:6: SettingWithCopyWarning: \n",
            "A value is trying to be set on a copy of a slice from a DataFrame.\n",
            "Try using .loc[row_indexer,col_indexer] = value instead\n",
            "\n",
            "See the caveats in the documentation: https://pandas.pydata.org/pandas-docs/stable/user_guide/indexing.html#returning-a-view-versus-a-copy\n",
            "  \n"
          ],
          "name": "stderr"
        },
        {
          "output_type": "stream",
          "text": [
            "Parse progress: |█████████████████████████████████████████████████████████| 100%\n",
            "Parse progress: |█████████████████████████████████████████████████████████| 100%\n",
            "Parse progress: |█████████████████████████████████████████████████████████| 100%\n"
          ],
          "name": "stdout"
        },
        {
          "output_type": "display_data",
          "data": {
            "text/html": [
              "<table>\n",
              "<thead>\n",
              "<tr><th>model_id                                   </th><th style=\"text-align: right;\">  mean_residual_deviance</th><th style=\"text-align: right;\">    rmse</th><th style=\"text-align: right;\">      mse</th><th style=\"text-align: right;\">      mae</th><th style=\"text-align: right;\">     rmsle</th></tr>\n",
              "</thead>\n",
              "<tbody>\n",
              "<tr><td>GLM_1_AutoML_20201217_134734               </td><td style=\"text-align: right;\">               0.0135223</td><td style=\"text-align: right;\">0.116285</td><td style=\"text-align: right;\">0.0135223</td><td style=\"text-align: right;\">0.0799886</td><td style=\"text-align: right;\">0.0090628 </td></tr>\n",
              "<tr><td>GBM_grid__1_AutoML_20201217_134734_model_14</td><td style=\"text-align: right;\">               0.0144202</td><td style=\"text-align: right;\">0.120084</td><td style=\"text-align: right;\">0.0144202</td><td style=\"text-align: right;\">0.0818738</td><td style=\"text-align: right;\">0.00937156</td></tr>\n",
              "<tr><td>GBM_grid__1_AutoML_20201217_134734_model_23</td><td style=\"text-align: right;\">               0.0146046</td><td style=\"text-align: right;\">0.120849</td><td style=\"text-align: right;\">0.0146046</td><td style=\"text-align: right;\">0.083408 </td><td style=\"text-align: right;\">0.00942221</td></tr>\n",
              "<tr><td>GBM_grid__1_AutoML_20201217_134734_model_8 </td><td style=\"text-align: right;\">               0.0147604</td><td style=\"text-align: right;\">0.121492</td><td style=\"text-align: right;\">0.0147604</td><td style=\"text-align: right;\">0.0825519</td><td style=\"text-align: right;\">0.00947184</td></tr>\n",
              "<tr><td>GBM_grid__1_AutoML_20201217_134734_model_22</td><td style=\"text-align: right;\">               0.0149217</td><td style=\"text-align: right;\">0.122154</td><td style=\"text-align: right;\">0.0149217</td><td style=\"text-align: right;\">0.0846175</td><td style=\"text-align: right;\">0.00952103</td></tr>\n",
              "<tr><td>GBM_grid__1_AutoML_20201217_134734_model_28</td><td style=\"text-align: right;\">               0.0150048</td><td style=\"text-align: right;\">0.122494</td><td style=\"text-align: right;\">0.0150048</td><td style=\"text-align: right;\">0.0845943</td><td style=\"text-align: right;\">0.00955038</td></tr>\n",
              "<tr><td>GBM_grid__1_AutoML_20201217_134734_model_3 </td><td style=\"text-align: right;\">               0.0150177</td><td style=\"text-align: right;\">0.122547</td><td style=\"text-align: right;\">0.0150177</td><td style=\"text-align: right;\">0.0836764</td><td style=\"text-align: right;\">0.00956237</td></tr>\n",
              "<tr><td>GBM_grid__1_AutoML_20201217_134734_model_24</td><td style=\"text-align: right;\">               0.015363 </td><td style=\"text-align: right;\">0.123947</td><td style=\"text-align: right;\">0.015363 </td><td style=\"text-align: right;\">0.0846162</td><td style=\"text-align: right;\">0.00967979</td></tr>\n",
              "<tr><td>GBM_grid__1_AutoML_20201217_134734_model_25</td><td style=\"text-align: right;\">               0.0154721</td><td style=\"text-align: right;\">0.124387</td><td style=\"text-align: right;\">0.0154721</td><td style=\"text-align: right;\">0.0843125</td><td style=\"text-align: right;\">0.00969252</td></tr>\n",
              "<tr><td>GBM_3_AutoML_20201217_134734               </td><td style=\"text-align: right;\">               0.0154992</td><td style=\"text-align: right;\">0.124496</td><td style=\"text-align: right;\">0.0154992</td><td style=\"text-align: right;\">0.0853455</td><td style=\"text-align: right;\">0.00970789</td></tr>\n",
              "</tbody>\n",
              "</table>"
            ]
          },
          "metadata": {
            "tags": []
          }
        },
        {
          "output_type": "stream",
          "text": [
            "\n",
            "generate predictions\n",
            "CPU times: user 609 ms, sys: 48.4 ms, total: 657 ms\n",
            "Wall time: 1.56 s\n"
          ],
          "name": "stdout"
        }
      ]
    },
    {
      "cell_type": "markdown",
      "metadata": {
        "id": "aCSVgQDlRGEm"
      },
      "source": [
        "## SAVE MODEL"
      ]
    },
    {
      "cell_type": "code",
      "metadata": {
        "id": "DO0Xo3Yt7KQG"
      },
      "source": [
        "SAVE_MODEL = False\n",
        "FORCE = True\n",
        "\n",
        "if SAVE_MODEL:\n",
        "    h2o.export_file(lb, os.path.join(PATH_TO_MODELS, \"aml_leaderboard.h2o\"), force=FORCE)\n",
        "    model_ids = lb['model_id'].as_data_frame()['model_id'].tolist()\n",
        "    for m_id in model_ids:\n",
        "        mdl = h2o.get_model(m_id)\n",
        "        h2o.save_model(model=mdl, path=os.path.join(PATH_TO_MODELS, f'{m_id}'), force=FORCE)"
      ],
      "execution_count": 26,
      "outputs": []
    },
    {
      "cell_type": "markdown",
      "metadata": {
        "collapsed": "true",
        "id": "94CNtJ8rkeJk"
      },
      "source": [
        "# CREATE SUMBISSION"
      ]
    },
    {
      "cell_type": "code",
      "metadata": {
        "colab": {
          "base_uri": "https://localhost:8080/"
        },
        "id": "LZjUElh9keJk",
        "outputId": "9492230b-62a7-4c36-e947-b68c66f9c06f"
      },
      "source": [
        "test_y = best_model.predict(htest).as_data_frame()"
      ],
      "execution_count": 27,
      "outputs": [
        {
          "output_type": "stream",
          "text": [
            "glm prediction progress: |████████████████████████████████████████████████| 100%\n"
          ],
          "name": "stdout"
        }
      ]
    },
    {
      "cell_type": "code",
      "metadata": {
        "id": "beEwkualkeJl"
      },
      "source": [
        "ss = pd.read_csv(os.path.join(PATH_TO_DATA, \"sample_submission.csv\"), index_col=\"Id\")\n",
        "ss[\"SalePrice\"] = np.expm1(test_y['predict'].values)"
      ],
      "execution_count": 28,
      "outputs": []
    },
    {
      "cell_type": "code",
      "metadata": {
        "colab": {
          "base_uri": "https://localhost:8080/"
        },
        "id": "nSSDcGn-keJl",
        "outputId": "a2e43340-9919-4ee8-81d1-30956f144520"
      },
      "source": [
        "import datetime\n",
        "\n",
        "df_submission = ss.copy()\n",
        "submission_filename = \"submission_{}.csv\".format(\n",
        "    datetime.datetime.now().strftime(\"%Y-%m-%d_%H-%M-%S\")\n",
        ")\n",
        "df_submission.to_csv(os.path.join(PATH_TO_SUBMISSIONS, submission_filename))\n",
        "print(\"Submission saved to {}\".format(submission_filename))"
      ],
      "execution_count": 29,
      "outputs": [
        {
          "output_type": "stream",
          "text": [
            "Submission saved to submission_2020-12-17_15-18-08.csv\n"
          ],
          "name": "stdout"
        }
      ]
    }
  ]
}